{
  "nbformat": 4,
  "nbformat_minor": 0,
  "metadata": {
    "colab": {
      "provenance": [],
      "gpuType": "A100",
      "machine_shape": "hm"
    },
    "kernelspec": {
      "name": "python3",
      "display_name": "Python 3"
    },
    "language_info": {
      "name": "python"
    },
    "accelerator": "GPU",
    "widgets": {
      "application/vnd.jupyter.widget-state+json": {
        "ef91164b7b474d5299a3ae2c9bf8cbca": {
          "model_module": "@jupyter-widgets/controls",
          "model_name": "HBoxModel",
          "model_module_version": "1.5.0",
          "state": {
            "_dom_classes": [],
            "_model_module": "@jupyter-widgets/controls",
            "_model_module_version": "1.5.0",
            "_model_name": "HBoxModel",
            "_view_count": null,
            "_view_module": "@jupyter-widgets/controls",
            "_view_module_version": "1.5.0",
            "_view_name": "HBoxView",
            "box_style": "",
            "children": [
              "IPY_MODEL_51932a7fb98241ddbed1fb82b930f5d8",
              "IPY_MODEL_0156516cf6fe4855894f13cff4bd55a8",
              "IPY_MODEL_ff07baccd5f14f6b8180257175bc5621"
            ],
            "layout": "IPY_MODEL_73cfa8f2b3064296bfff77bbf8c04fe2"
          }
        },
        "51932a7fb98241ddbed1fb82b930f5d8": {
          "model_module": "@jupyter-widgets/controls",
          "model_name": "HTMLModel",
          "model_module_version": "1.5.0",
          "state": {
            "_dom_classes": [],
            "_model_module": "@jupyter-widgets/controls",
            "_model_module_version": "1.5.0",
            "_model_name": "HTMLModel",
            "_view_count": null,
            "_view_module": "@jupyter-widgets/controls",
            "_view_module_version": "1.5.0",
            "_view_name": "HTMLView",
            "description": "",
            "description_tooltip": null,
            "layout": "IPY_MODEL_f5b4f6bfe4cf4855b2fe44db0759f27f",
            "placeholder": "​",
            "style": "IPY_MODEL_4d0d195aa90b4d5789744e6e3f85f567",
            "value": "model.safetensors: 100%"
          }
        },
        "0156516cf6fe4855894f13cff4bd55a8": {
          "model_module": "@jupyter-widgets/controls",
          "model_name": "FloatProgressModel",
          "model_module_version": "1.5.0",
          "state": {
            "_dom_classes": [],
            "_model_module": "@jupyter-widgets/controls",
            "_model_module_version": "1.5.0",
            "_model_name": "FloatProgressModel",
            "_view_count": null,
            "_view_module": "@jupyter-widgets/controls",
            "_view_module_version": "1.5.0",
            "_view_name": "ProgressView",
            "bar_style": "success",
            "description": "",
            "description_tooltip": null,
            "layout": "IPY_MODEL_b02b7b6904114e3ea574f8467b6fadb0",
            "max": 267954768,
            "min": 0,
            "orientation": "horizontal",
            "style": "IPY_MODEL_83fc0cecf7fb43d79bc65a8da0d03d10",
            "value": 267954768
          }
        },
        "ff07baccd5f14f6b8180257175bc5621": {
          "model_module": "@jupyter-widgets/controls",
          "model_name": "HTMLModel",
          "model_module_version": "1.5.0",
          "state": {
            "_dom_classes": [],
            "_model_module": "@jupyter-widgets/controls",
            "_model_module_version": "1.5.0",
            "_model_name": "HTMLModel",
            "_view_count": null,
            "_view_module": "@jupyter-widgets/controls",
            "_view_module_version": "1.5.0",
            "_view_name": "HTMLView",
            "description": "",
            "description_tooltip": null,
            "layout": "IPY_MODEL_8bdcebad59dc4f25abfc61eb7249676b",
            "placeholder": "​",
            "style": "IPY_MODEL_03120d1f8a7b46b38f95b7378d82905e",
            "value": " 268M/268M [00:01&lt;00:00, 237MB/s]"
          }
        },
        "73cfa8f2b3064296bfff77bbf8c04fe2": {
          "model_module": "@jupyter-widgets/base",
          "model_name": "LayoutModel",
          "model_module_version": "1.2.0",
          "state": {
            "_model_module": "@jupyter-widgets/base",
            "_model_module_version": "1.2.0",
            "_model_name": "LayoutModel",
            "_view_count": null,
            "_view_module": "@jupyter-widgets/base",
            "_view_module_version": "1.2.0",
            "_view_name": "LayoutView",
            "align_content": null,
            "align_items": null,
            "align_self": null,
            "border": null,
            "bottom": null,
            "display": null,
            "flex": null,
            "flex_flow": null,
            "grid_area": null,
            "grid_auto_columns": null,
            "grid_auto_flow": null,
            "grid_auto_rows": null,
            "grid_column": null,
            "grid_gap": null,
            "grid_row": null,
            "grid_template_areas": null,
            "grid_template_columns": null,
            "grid_template_rows": null,
            "height": null,
            "justify_content": null,
            "justify_items": null,
            "left": null,
            "margin": null,
            "max_height": null,
            "max_width": null,
            "min_height": null,
            "min_width": null,
            "object_fit": null,
            "object_position": null,
            "order": null,
            "overflow": null,
            "overflow_x": null,
            "overflow_y": null,
            "padding": null,
            "right": null,
            "top": null,
            "visibility": null,
            "width": null
          }
        },
        "f5b4f6bfe4cf4855b2fe44db0759f27f": {
          "model_module": "@jupyter-widgets/base",
          "model_name": "LayoutModel",
          "model_module_version": "1.2.0",
          "state": {
            "_model_module": "@jupyter-widgets/base",
            "_model_module_version": "1.2.0",
            "_model_name": "LayoutModel",
            "_view_count": null,
            "_view_module": "@jupyter-widgets/base",
            "_view_module_version": "1.2.0",
            "_view_name": "LayoutView",
            "align_content": null,
            "align_items": null,
            "align_self": null,
            "border": null,
            "bottom": null,
            "display": null,
            "flex": null,
            "flex_flow": null,
            "grid_area": null,
            "grid_auto_columns": null,
            "grid_auto_flow": null,
            "grid_auto_rows": null,
            "grid_column": null,
            "grid_gap": null,
            "grid_row": null,
            "grid_template_areas": null,
            "grid_template_columns": null,
            "grid_template_rows": null,
            "height": null,
            "justify_content": null,
            "justify_items": null,
            "left": null,
            "margin": null,
            "max_height": null,
            "max_width": null,
            "min_height": null,
            "min_width": null,
            "object_fit": null,
            "object_position": null,
            "order": null,
            "overflow": null,
            "overflow_x": null,
            "overflow_y": null,
            "padding": null,
            "right": null,
            "top": null,
            "visibility": null,
            "width": null
          }
        },
        "4d0d195aa90b4d5789744e6e3f85f567": {
          "model_module": "@jupyter-widgets/controls",
          "model_name": "DescriptionStyleModel",
          "model_module_version": "1.5.0",
          "state": {
            "_model_module": "@jupyter-widgets/controls",
            "_model_module_version": "1.5.0",
            "_model_name": "DescriptionStyleModel",
            "_view_count": null,
            "_view_module": "@jupyter-widgets/base",
            "_view_module_version": "1.2.0",
            "_view_name": "StyleView",
            "description_width": ""
          }
        },
        "b02b7b6904114e3ea574f8467b6fadb0": {
          "model_module": "@jupyter-widgets/base",
          "model_name": "LayoutModel",
          "model_module_version": "1.2.0",
          "state": {
            "_model_module": "@jupyter-widgets/base",
            "_model_module_version": "1.2.0",
            "_model_name": "LayoutModel",
            "_view_count": null,
            "_view_module": "@jupyter-widgets/base",
            "_view_module_version": "1.2.0",
            "_view_name": "LayoutView",
            "align_content": null,
            "align_items": null,
            "align_self": null,
            "border": null,
            "bottom": null,
            "display": null,
            "flex": null,
            "flex_flow": null,
            "grid_area": null,
            "grid_auto_columns": null,
            "grid_auto_flow": null,
            "grid_auto_rows": null,
            "grid_column": null,
            "grid_gap": null,
            "grid_row": null,
            "grid_template_areas": null,
            "grid_template_columns": null,
            "grid_template_rows": null,
            "height": null,
            "justify_content": null,
            "justify_items": null,
            "left": null,
            "margin": null,
            "max_height": null,
            "max_width": null,
            "min_height": null,
            "min_width": null,
            "object_fit": null,
            "object_position": null,
            "order": null,
            "overflow": null,
            "overflow_x": null,
            "overflow_y": null,
            "padding": null,
            "right": null,
            "top": null,
            "visibility": null,
            "width": null
          }
        },
        "83fc0cecf7fb43d79bc65a8da0d03d10": {
          "model_module": "@jupyter-widgets/controls",
          "model_name": "ProgressStyleModel",
          "model_module_version": "1.5.0",
          "state": {
            "_model_module": "@jupyter-widgets/controls",
            "_model_module_version": "1.5.0",
            "_model_name": "ProgressStyleModel",
            "_view_count": null,
            "_view_module": "@jupyter-widgets/base",
            "_view_module_version": "1.2.0",
            "_view_name": "StyleView",
            "bar_color": null,
            "description_width": ""
          }
        },
        "8bdcebad59dc4f25abfc61eb7249676b": {
          "model_module": "@jupyter-widgets/base",
          "model_name": "LayoutModel",
          "model_module_version": "1.2.0",
          "state": {
            "_model_module": "@jupyter-widgets/base",
            "_model_module_version": "1.2.0",
            "_model_name": "LayoutModel",
            "_view_count": null,
            "_view_module": "@jupyter-widgets/base",
            "_view_module_version": "1.2.0",
            "_view_name": "LayoutView",
            "align_content": null,
            "align_items": null,
            "align_self": null,
            "border": null,
            "bottom": null,
            "display": null,
            "flex": null,
            "flex_flow": null,
            "grid_area": null,
            "grid_auto_columns": null,
            "grid_auto_flow": null,
            "grid_auto_rows": null,
            "grid_column": null,
            "grid_gap": null,
            "grid_row": null,
            "grid_template_areas": null,
            "grid_template_columns": null,
            "grid_template_rows": null,
            "height": null,
            "justify_content": null,
            "justify_items": null,
            "left": null,
            "margin": null,
            "max_height": null,
            "max_width": null,
            "min_height": null,
            "min_width": null,
            "object_fit": null,
            "object_position": null,
            "order": null,
            "overflow": null,
            "overflow_x": null,
            "overflow_y": null,
            "padding": null,
            "right": null,
            "top": null,
            "visibility": null,
            "width": null
          }
        },
        "03120d1f8a7b46b38f95b7378d82905e": {
          "model_module": "@jupyter-widgets/controls",
          "model_name": "DescriptionStyleModel",
          "model_module_version": "1.5.0",
          "state": {
            "_model_module": "@jupyter-widgets/controls",
            "_model_module_version": "1.5.0",
            "_model_name": "DescriptionStyleModel",
            "_view_count": null,
            "_view_module": "@jupyter-widgets/base",
            "_view_module_version": "1.2.0",
            "_view_name": "StyleView",
            "description_width": ""
          }
        }
      }
    }
  },
  "cells": [
    {
      "cell_type": "code",
      "execution_count": 68,
      "metadata": {
        "id": "9BhicG2xE6Qz"
      },
      "outputs": [],
      "source": [
        "from transformers import pipeline, DistilBertTokenizer, DistilBertForSequenceClassification, TrainingArguments, Trainer, DistilBertConfig, EarlyStoppingCallback\n",
        "from datasets import load_dataset\n",
        "import os\n",
        "import torch"
      ]
    },
    {
      "cell_type": "code",
      "source": [
        "# Load the classifier with ready-to-use model\n",
        "classifier = pipeline('text-classification', model='distilbert-base-uncased-finetuned-sst-2-english')"
      ],
      "metadata": {
        "id": "JG9-nafiFFcD",
        "colab": {
          "base_uri": "https://localhost:8080/",
          "height": 0
        },
        "outputId": "1fe90824-37aa-4b63-e64d-d4c24a77a6f9"
      },
      "execution_count": 69,
      "outputs": [
        {
          "output_type": "stream",
          "name": "stderr",
          "text": [
            "/usr/local/lib/python3.10/dist-packages/transformers/tokenization_utils_base.py:1601: FutureWarning: `clean_up_tokenization_spaces` was not set. It will be set to `True` by default. This behavior will be depracted in transformers v4.45, and will be then set to `False` by default. For more details check this issue: https://github.com/huggingface/transformers/issues/31884\n",
            "  warnings.warn(\n",
            "Hardware accelerator e.g. GPU is available in the environment, but no `device` argument is passed to the `Pipeline` object. Model will be on CPU.\n"
          ]
        }
      ]
    },
    {
      "cell_type": "code",
      "source": [
        "text = \"Apple unveils new products at its annual technology conference.\"\n",
        "result = classifier(text)\n",
        "print(result)"
      ],
      "metadata": {
        "colab": {
          "base_uri": "https://localhost:8080/",
          "height": 0
        },
        "id": "4CmquF7ZFHrX",
        "outputId": "df18ca15-27d0-4d0b-d321-ada074486741"
      },
      "execution_count": 70,
      "outputs": [
        {
          "output_type": "stream",
          "name": "stdout",
          "text": [
            "[{'label': 'POSITIVE', 'score': 0.9976915121078491}]\n"
          ]
        }
      ]
    },
    {
      "cell_type": "code",
      "source": [
        "dataset = load_dataset(\"ag_news\")"
      ],
      "metadata": {
        "id": "HP1sqH2kGKEL"
      },
      "execution_count": 71,
      "outputs": []
    },
    {
      "cell_type": "code",
      "source": [
        "dataset"
      ],
      "metadata": {
        "colab": {
          "base_uri": "https://localhost:8080/",
          "height": 0
        },
        "id": "fIfu8CtMGXiu",
        "outputId": "ce46ccdf-7790-4f4d-d68c-9234c7033282"
      },
      "execution_count": 72,
      "outputs": [
        {
          "output_type": "execute_result",
          "data": {
            "text/plain": [
              "DatasetDict({\n",
              "    train: Dataset({\n",
              "        features: ['text', 'label'],\n",
              "        num_rows: 120000\n",
              "    })\n",
              "    test: Dataset({\n",
              "        features: ['text', 'label'],\n",
              "        num_rows: 7600\n",
              "    })\n",
              "})"
            ]
          },
          "metadata": {},
          "execution_count": 72
        }
      ]
    },
    {
      "cell_type": "code",
      "source": [
        "# Print the first 5 samples\n",
        "for i in range(5):\n",
        "    print(dataset[\"train\"][i])"
      ],
      "metadata": {
        "colab": {
          "base_uri": "https://localhost:8080/",
          "height": 0
        },
        "id": "sW71XRUDGYuK",
        "outputId": "0bc36bba-32a3-4733-91d7-e9eb741754fd"
      },
      "execution_count": 73,
      "outputs": [
        {
          "output_type": "stream",
          "name": "stdout",
          "text": [
            "{'text': \"Wall St. Bears Claw Back Into the Black (Reuters) Reuters - Short-sellers, Wall Street's dwindling\\\\band of ultra-cynics, are seeing green again.\", 'label': 2}\n",
            "{'text': 'Carlyle Looks Toward Commercial Aerospace (Reuters) Reuters - Private investment firm Carlyle Group,\\\\which has a reputation for making well-timed and occasionally\\\\controversial plays in the defense industry, has quietly placed\\\\its bets on another part of the market.', 'label': 2}\n",
            "{'text': \"Oil and Economy Cloud Stocks' Outlook (Reuters) Reuters - Soaring crude prices plus worries\\\\about the economy and the outlook for earnings are expected to\\\\hang over the stock market next week during the depth of the\\\\summer doldrums.\", 'label': 2}\n",
            "{'text': 'Iraq Halts Oil Exports from Main Southern Pipeline (Reuters) Reuters - Authorities have halted oil export\\\\flows from the main pipeline in southern Iraq after\\\\intelligence showed a rebel militia could strike\\\\infrastructure, an oil official said on Saturday.', 'label': 2}\n",
            "{'text': 'Oil prices soar to all-time record, posing new menace to US economy (AFP) AFP - Tearaway world oil prices, toppling records and straining wallets, present a new economic menace barely three months before the US presidential elections.', 'label': 2}\n"
          ]
        }
      ]
    },
    {
      "cell_type": "code",
      "source": [
        "# Asign label names to the labels for the first 5 samples in the training set\n",
        "for i in range(5):\n",
        "    print(dataset[\"train\"][i][\"label\"], dataset[\"train\"].features[\"label\"].int2str(dataset[\"train\"][i][\"label\"]))"
      ],
      "metadata": {
        "colab": {
          "base_uri": "https://localhost:8080/",
          "height": 0
        },
        "id": "EY25Sg-HG3TG",
        "outputId": "672fdf3a-f1bd-4959-acbd-bc4ff2ba6450"
      },
      "execution_count": 74,
      "outputs": [
        {
          "output_type": "stream",
          "name": "stdout",
          "text": [
            "2 Business\n",
            "2 Business\n",
            "2 Business\n",
            "2 Business\n",
            "2 Business\n"
          ]
        }
      ]
    },
    {
      "cell_type": "code",
      "source": [
        "# Print label names\n",
        "print(dataset[\"train\"].features[\"label\"])"
      ],
      "metadata": {
        "colab": {
          "base_uri": "https://localhost:8080/",
          "height": 0
        },
        "id": "9z4ziKmBGdiC",
        "outputId": "7701fe91-344e-4f3b-83b8-c46ca201aa32"
      },
      "execution_count": 75,
      "outputs": [
        {
          "output_type": "stream",
          "name": "stdout",
          "text": [
            "ClassLabel(names=['World', 'Sports', 'Business', 'Sci/Tech'], id=None)\n"
          ]
        }
      ]
    },
    {
      "cell_type": "code",
      "source": [
        "# Print length of the training set and the test set\n",
        "print(len(dataset[\"train\"]), len(dataset[\"test\"]))"
      ],
      "metadata": {
        "colab": {
          "base_uri": "https://localhost:8080/",
          "height": 0
        },
        "id": "W6aUfmA2Gq6q",
        "outputId": "8db22526-21ac-4a89-d5dd-34d89d49f27b"
      },
      "execution_count": 76,
      "outputs": [
        {
          "output_type": "stream",
          "name": "stdout",
          "text": [
            "120000 7600\n"
          ]
        }
      ]
    },
    {
      "cell_type": "code",
      "source": [
        "# Adjust loaded data to the format required by the distilbert model\n",
        "\n",
        "# Initialize the tokenizer\n",
        "tokenizer = DistilBertTokenizer.from_pretrained(\"distilbert-base-uncased\")\n",
        "\n",
        "# Tokenize the function\n",
        "def tokenize_function(examples):\n",
        "    return tokenizer(examples[\"text\"], padding=\"max_length\", truncation=True)\n",
        "\n",
        "# Tokenize the dataset\n",
        "tokenized_datasets = dataset.map(tokenize_function, batched=True)"
      ],
      "metadata": {
        "id": "dBoItLF4G1CP"
      },
      "execution_count": 77,
      "outputs": []
    },
    {
      "cell_type": "code",
      "source": [
        "# Set the amount of categories for the classification\n",
        "num_labels = 4\n",
        "\n",
        "# Load the model for classification\n",
        "model = DistilBertForSequenceClassification.from_pretrained(\"distilbert-base-uncased\", num_labels=num_labels)"
      ],
      "metadata": {
        "colab": {
          "base_uri": "https://localhost:8080/",
          "height": 104,
          "referenced_widgets": [
            "ef91164b7b474d5299a3ae2c9bf8cbca",
            "51932a7fb98241ddbed1fb82b930f5d8",
            "0156516cf6fe4855894f13cff4bd55a8",
            "ff07baccd5f14f6b8180257175bc5621",
            "73cfa8f2b3064296bfff77bbf8c04fe2",
            "f5b4f6bfe4cf4855b2fe44db0759f27f",
            "4d0d195aa90b4d5789744e6e3f85f567",
            "b02b7b6904114e3ea574f8467b6fadb0",
            "83fc0cecf7fb43d79bc65a8da0d03d10",
            "8bdcebad59dc4f25abfc61eb7249676b",
            "03120d1f8a7b46b38f95b7378d82905e"
          ]
        },
        "id": "fcJxbQG2G6lk",
        "outputId": "884a768d-cd82-44b9-b9d4-0aa3fadbeb64"
      },
      "execution_count": 15,
      "outputs": [
        {
          "output_type": "display_data",
          "data": {
            "text/plain": [
              "model.safetensors:   0%|          | 0.00/268M [00:00<?, ?B/s]"
            ],
            "application/vnd.jupyter.widget-view+json": {
              "version_major": 2,
              "version_minor": 0,
              "model_id": "ef91164b7b474d5299a3ae2c9bf8cbca"
            }
          },
          "metadata": {}
        },
        {
          "output_type": "stream",
          "name": "stderr",
          "text": [
            "Some weights of DistilBertForSequenceClassification were not initialized from the model checkpoint at distilbert-base-uncased and are newly initialized: ['classifier.bias', 'classifier.weight', 'pre_classifier.bias', 'pre_classifier.weight']\n",
            "You should probably TRAIN this model on a down-stream task to be able to use it for predictions and inference.\n"
          ]
        }
      ]
    },
    {
      "cell_type": "code",
      "source": [
        "# Define the training arguments\n",
        "training_args = TrainingArguments(\n",
        "    output_dir=\"/content/output\",               # Folder for the results\n",
        "    eval_strategy=\"epoch\",          # Evaluate after each epoch\n",
        "    save_strategy=\"epoch\",          # Save after each epoch\n",
        "    save_steps=500,                 # Save every 500 steps\n",
        "    learning_rate=2e-5,                   # Learning rate\n",
        "    per_device_train_batch_size=16,        # Size of the batch for training\n",
        "    per_device_eval_batch_size=8,         # Size of the batch for evaluation\n",
        "    num_train_epochs=3,                   # Number of epochs\n",
        "    weight_decay=0.01,              # Regularization parameter\n",
        "    load_best_model_at_end=True,   # Load best model at the end\n",
        "    save_total_limit=2,   # Set limit to 2 to save max amount of checkpoints\n",
        ")"
      ],
      "metadata": {
        "id": "9Vbm2ugdG8wV"
      },
      "execution_count": 24,
      "outputs": []
    },
    {
      "cell_type": "code",
      "source": [
        "trainer = Trainer(\n",
        "    model=model,                           # DistilBert model\n",
        "    args=training_args,                    # Training arguments\n",
        "    train_dataset=tokenized_datasets[\"train\"],  # Training dataset\n",
        "    eval_dataset=tokenized_datasets[\"test\"]     # Evaluation dataset\n",
        ")"
      ],
      "metadata": {
        "id": "Qmx0rhd_G-Z0"
      },
      "execution_count": 25,
      "outputs": []
    },
    {
      "cell_type": "code",
      "source": [
        "trainer.train()"
      ],
      "metadata": {
        "colab": {
          "base_uri": "https://localhost:8080/",
          "height": 377
        },
        "id": "jKFn8o4sJAFp",
        "outputId": "da608298-d5aa-43ec-c2a2-d48260177a4f"
      },
      "execution_count": 26,
      "outputs": [
        {
          "output_type": "display_data",
          "data": {
            "text/plain": [
              "<IPython.core.display.Javascript object>"
            ],
            "application/javascript": [
              "\n",
              "        window._wandbApiKey = new Promise((resolve, reject) => {\n",
              "            function loadScript(url) {\n",
              "            return new Promise(function(resolve, reject) {\n",
              "                let newScript = document.createElement(\"script\");\n",
              "                newScript.onerror = reject;\n",
              "                newScript.onload = resolve;\n",
              "                document.body.appendChild(newScript);\n",
              "                newScript.src = url;\n",
              "            });\n",
              "            }\n",
              "            loadScript(\"https://cdn.jsdelivr.net/npm/postmate/build/postmate.min.js\").then(() => {\n",
              "            const iframe = document.createElement('iframe')\n",
              "            iframe.style.cssText = \"width:0;height:0;border:none\"\n",
              "            document.body.appendChild(iframe)\n",
              "            const handshake = new Postmate({\n",
              "                container: iframe,\n",
              "                url: 'https://wandb.ai/authorize'\n",
              "            });\n",
              "            const timeout = setTimeout(() => reject(\"Couldn't auto authenticate\"), 5000)\n",
              "            handshake.then(function(child) {\n",
              "                child.on('authorize', data => {\n",
              "                    clearTimeout(timeout)\n",
              "                    resolve(data)\n",
              "                });\n",
              "            });\n",
              "            })\n",
              "        });\n",
              "    "
            ]
          },
          "metadata": {}
        },
        {
          "output_type": "stream",
          "name": "stderr",
          "text": [
            "\u001b[34m\u001b[1mwandb\u001b[0m: Logging into wandb.ai. (Learn how to deploy a W&B server locally: https://wandb.me/wandb-server)\n",
            "\u001b[34m\u001b[1mwandb\u001b[0m: You can find your API key in your browser here: https://wandb.ai/authorize\n",
            "wandb: Paste an API key from your profile and hit enter, or press ctrl+c to quit:"
          ]
        },
        {
          "name": "stdout",
          "output_type": "stream",
          "text": [
            " ··········\n"
          ]
        },
        {
          "output_type": "stream",
          "name": "stderr",
          "text": [
            "\u001b[34m\u001b[1mwandb\u001b[0m: Appending key for api.wandb.ai to your netrc file: /root/.netrc\n"
          ]
        },
        {
          "output_type": "display_data",
          "data": {
            "text/plain": [
              "<IPython.core.display.HTML object>"
            ],
            "text/html": [
              "Tracking run with wandb version 0.18.5"
            ]
          },
          "metadata": {}
        },
        {
          "output_type": "display_data",
          "data": {
            "text/plain": [
              "<IPython.core.display.HTML object>"
            ],
            "text/html": [
              "Run data is saved locally in <code>/content/wandb/run-20241109_085400-taihbxow</code>"
            ]
          },
          "metadata": {}
        },
        {
          "output_type": "display_data",
          "data": {
            "text/plain": [
              "<IPython.core.display.HTML object>"
            ],
            "text/html": [
              "Syncing run <strong><a href='https://wandb.ai/kacperxxx-wsb-merito/huggingface/runs/taihbxow' target=\"_blank\">/content/output</a></strong> to <a href='https://wandb.ai/kacperxxx-wsb-merito/huggingface' target=\"_blank\">Weights & Biases</a> (<a href='https://wandb.me/run' target=\"_blank\">docs</a>)<br/>"
            ]
          },
          "metadata": {}
        },
        {
          "output_type": "display_data",
          "data": {
            "text/plain": [
              "<IPython.core.display.HTML object>"
            ],
            "text/html": [
              " View project at <a href='https://wandb.ai/kacperxxx-wsb-merito/huggingface' target=\"_blank\">https://wandb.ai/kacperxxx-wsb-merito/huggingface</a>"
            ]
          },
          "metadata": {}
        },
        {
          "output_type": "display_data",
          "data": {
            "text/plain": [
              "<IPython.core.display.HTML object>"
            ],
            "text/html": [
              " View run at <a href='https://wandb.ai/kacperxxx-wsb-merito/huggingface/runs/taihbxow' target=\"_blank\">https://wandb.ai/kacperxxx-wsb-merito/huggingface/runs/taihbxow</a>"
            ]
          },
          "metadata": {}
        },
        {
          "output_type": "display_data",
          "data": {
            "text/plain": [
              "<IPython.core.display.HTML object>"
            ],
            "text/html": [
              "\n",
              "    <div>\n",
              "      \n",
              "      <progress value='22500' max='22500' style='width:300px; height:20px; vertical-align: middle;'></progress>\n",
              "      [22500/22500 1:14:10, Epoch 3/3]\n",
              "    </div>\n",
              "    <table border=\"1\" class=\"dataframe\">\n",
              "  <thead>\n",
              " <tr style=\"text-align: left;\">\n",
              "      <th>Epoch</th>\n",
              "      <th>Training Loss</th>\n",
              "      <th>Validation Loss</th>\n",
              "    </tr>\n",
              "  </thead>\n",
              "  <tbody>\n",
              "    <tr>\n",
              "      <td>1</td>\n",
              "      <td>0.203100</td>\n",
              "      <td>0.177845</td>\n",
              "    </tr>\n",
              "    <tr>\n",
              "      <td>2</td>\n",
              "      <td>0.134900</td>\n",
              "      <td>0.179587</td>\n",
              "    </tr>\n",
              "    <tr>\n",
              "      <td>3</td>\n",
              "      <td>0.086000</td>\n",
              "      <td>0.210289</td>\n",
              "    </tr>\n",
              "  </tbody>\n",
              "</table><p>"
            ]
          },
          "metadata": {}
        },
        {
          "output_type": "execute_result",
          "data": {
            "text/plain": [
              "TrainOutput(global_step=22500, training_loss=0.15498081732855903, metrics={'train_runtime': 4482.511, 'train_samples_per_second': 80.312, 'train_steps_per_second': 5.02, 'total_flos': 4.768996442112e+16, 'train_loss': 0.15498081732855903, 'epoch': 3.0})"
            ]
          },
          "metadata": {},
          "execution_count": 26
        }
      ]
    },
    {
      "cell_type": "code",
      "source": [
        "results = trainer.evaluate()\n",
        "\n",
        "# Print results\n",
        "print(\"Evaluation results:\", results)"
      ],
      "metadata": {
        "id": "cN9dmKREJB7C",
        "colab": {
          "base_uri": "https://localhost:8080/",
          "height": 54
        },
        "outputId": "6c5a90c9-6036-4fda-8d5e-52cf05198d03"
      },
      "execution_count": 27,
      "outputs": [
        {
          "output_type": "display_data",
          "data": {
            "text/plain": [
              "<IPython.core.display.HTML object>"
            ],
            "text/html": [
              "\n",
              "    <div>\n",
              "      \n",
              "      <progress value='950' max='950' style='width:300px; height:20px; vertical-align: middle;'></progress>\n",
              "      [950/950 00:33]\n",
              "    </div>\n",
              "    "
            ]
          },
          "metadata": {}
        },
        {
          "output_type": "stream",
          "name": "stdout",
          "text": [
            "Evaluation results: {'eval_loss': 0.17784465849399567, 'eval_runtime': 33.2247, 'eval_samples_per_second': 228.746, 'eval_steps_per_second': 28.593, 'epoch': 3.0}\n"
          ]
        }
      ]
    },
    {
      "cell_type": "code",
      "source": [
        "print(dataset['train'].features['label'].names)"
      ],
      "metadata": {
        "colab": {
          "base_uri": "https://localhost:8080/",
          "height": 0
        },
        "id": "A87CoR-xbE_z",
        "outputId": "bd3650ac-b1e8-4e7e-fb38-0bc3e6c6d229"
      },
      "execution_count": 32,
      "outputs": [
        {
          "output_type": "stream",
          "name": "stdout",
          "text": [
            "['World', 'Sports', 'Business', 'Sci/Tech']\n"
          ]
        }
      ]
    },
    {
      "cell_type": "code",
      "source": [
        "print(model.config)"
      ],
      "metadata": {
        "colab": {
          "base_uri": "https://localhost:8080/",
          "height": 0
        },
        "id": "LIpRT9ulb3fd",
        "outputId": "7c9f50be-df83-4e7d-9293-a56b6bf5fe3a"
      },
      "execution_count": 33,
      "outputs": [
        {
          "output_type": "stream",
          "name": "stdout",
          "text": [
            "DistilBertConfig {\n",
            "  \"_name_or_path\": \"distilbert-base-uncased\",\n",
            "  \"activation\": \"gelu\",\n",
            "  \"architectures\": [\n",
            "    \"DistilBertForSequenceClassification\"\n",
            "  ],\n",
            "  \"attention_dropout\": 0.1,\n",
            "  \"dim\": 768,\n",
            "  \"dropout\": 0.1,\n",
            "  \"hidden_dim\": 3072,\n",
            "  \"id2label\": {\n",
            "    \"0\": \"LABEL_0\",\n",
            "    \"1\": \"LABEL_1\",\n",
            "    \"2\": \"LABEL_2\",\n",
            "    \"3\": \"LABEL_3\"\n",
            "  },\n",
            "  \"initializer_range\": 0.02,\n",
            "  \"label2id\": {\n",
            "    \"LABEL_0\": 0,\n",
            "    \"LABEL_1\": 1,\n",
            "    \"LABEL_2\": 2,\n",
            "    \"LABEL_3\": 3\n",
            "  },\n",
            "  \"max_position_embeddings\": 512,\n",
            "  \"model_type\": \"distilbert\",\n",
            "  \"n_heads\": 12,\n",
            "  \"n_layers\": 6,\n",
            "  \"pad_token_id\": 0,\n",
            "  \"problem_type\": \"single_label_classification\",\n",
            "  \"qa_dropout\": 0.1,\n",
            "  \"seq_classif_dropout\": 0.2,\n",
            "  \"sinusoidal_pos_embds\": false,\n",
            "  \"tie_weights_\": true,\n",
            "  \"torch_dtype\": \"float32\",\n",
            "  \"transformers_version\": \"4.44.2\",\n",
            "  \"vocab_size\": 30522\n",
            "}\n",
            "\n"
          ]
        }
      ]
    },
    {
      "cell_type": "code",
      "source": [
        "id2label = {0: \"World\", 1: \"Sports\", 2: \"Business\", 3: \"Sci/Tech\"}\n",
        "label2id = {\"World\": 0, \"Sports\": 1, \"Business\": 2, \"Sci/Tech\": 3}\n",
        "\n",
        "num_labels = len(id2label)\n",
        "print(num_labels)"
      ],
      "metadata": {
        "colab": {
          "base_uri": "https://localhost:8080/",
          "height": 0
        },
        "id": "Hq05Gc_Ab8jd",
        "outputId": "a28319bb-7992-4434-e88b-c913083a0c12"
      },
      "execution_count": 34,
      "outputs": [
        {
          "output_type": "stream",
          "name": "stdout",
          "text": [
            "4\n"
          ]
        }
      ]
    },
    {
      "cell_type": "code",
      "source": [
        "config = DistilBertConfig.from_pretrained(\"distilbert-base-uncased\",\n",
        "                                          id2label=id2label,\n",
        "                                          label2id=label2id)"
      ],
      "metadata": {
        "id": "vA0R8yBHdUYN"
      },
      "execution_count": 36,
      "outputs": []
    },
    {
      "cell_type": "code",
      "source": [
        "model_v2 = DistilBertForSequenceClassification.from_pretrained(\"distilbert-base-uncased\", config=config)"
      ],
      "metadata": {
        "colab": {
          "base_uri": "https://localhost:8080/",
          "height": 0
        },
        "id": "iHsrmwjTde3O",
        "outputId": "f0681ca1-c43d-40cf-851e-ff46b4765635"
      },
      "execution_count": 37,
      "outputs": [
        {
          "output_type": "stream",
          "name": "stderr",
          "text": [
            "Some weights of DistilBertForSequenceClassification were not initialized from the model checkpoint at distilbert-base-uncased and are newly initialized: ['classifier.bias', 'classifier.weight', 'pre_classifier.bias', 'pre_classifier.weight']\n",
            "You should probably TRAIN this model on a down-stream task to be able to use it for predictions and inference.\n"
          ]
        }
      ]
    },
    {
      "cell_type": "code",
      "source": [
        "from torch.utils.data import DataLoader\n",
        "\n",
        "train_dataset = tokenized_datasets[\"train\"]\n",
        "eval_dataset = tokenized_datasets[\"test\"]"
      ],
      "metadata": {
        "id": "yWhTeu2Jdiu3"
      },
      "execution_count": 78,
      "outputs": []
    },
    {
      "cell_type": "code",
      "source": [
        "training_args = TrainingArguments(\n",
        "    output_dir=\"/content/output/v2\",\n",
        "    evaluation_strategy=\"epoch\",\n",
        "    learning_rate=2e-5,\n",
        "    per_device_train_batch_size=16,\n",
        "    per_device_eval_batch_size=16,\n",
        "    num_train_epochs=3,\n",
        "    weight_decay=0.01,\n",
        "    load_best_model_at_end=True,\n",
        "    metric_for_best_model=\"eval_loss\",\n",
        "    save_steps=500,\n",
        "    save_total_limit=2,\n",
        "    disable_tqdm=False,\n",
        "    save_strategy=\"epoch\",\n",
        ")"
      ],
      "metadata": {
        "colab": {
          "base_uri": "https://localhost:8080/",
          "height": 0
        },
        "id": "8YIDCi2Vdp3L",
        "outputId": "49ea5953-b7b8-44f7-c223-49a8fa75a899"
      },
      "execution_count": 45,
      "outputs": [
        {
          "output_type": "stream",
          "name": "stderr",
          "text": [
            "/usr/local/lib/python3.10/dist-packages/transformers/training_args.py:1525: FutureWarning: `evaluation_strategy` is deprecated and will be removed in version 4.46 of 🤗 Transformers. Use `eval_strategy` instead\n",
            "  warnings.warn(\n"
          ]
        }
      ]
    },
    {
      "cell_type": "code",
      "source": [
        "trainer = Trainer(\n",
        "    model=model_v2,\n",
        "    args=training_args,\n",
        "    train_dataset=train_dataset,\n",
        "    eval_dataset=eval_dataset,\n",
        ")"
      ],
      "metadata": {
        "id": "MVmPk2NKeA0M"
      },
      "execution_count": 46,
      "outputs": []
    },
    {
      "cell_type": "code",
      "source": [
        "trainer.train()"
      ],
      "metadata": {
        "colab": {
          "base_uri": "https://localhost:8080/",
          "height": 204
        },
        "id": "XPbowNHBecGe",
        "outputId": "9427f637-63cd-46d5-8bdf-42f16721c364"
      },
      "execution_count": 47,
      "outputs": [
        {
          "output_type": "display_data",
          "data": {
            "text/plain": [
              "<IPython.core.display.HTML object>"
            ],
            "text/html": [
              "\n",
              "    <div>\n",
              "      \n",
              "      <progress value='22500' max='22500' style='width:300px; height:20px; vertical-align: middle;'></progress>\n",
              "      [22500/22500 1:14:15, Epoch 3/3]\n",
              "    </div>\n",
              "    <table border=\"1\" class=\"dataframe\">\n",
              "  <thead>\n",
              " <tr style=\"text-align: left;\">\n",
              "      <th>Epoch</th>\n",
              "      <th>Training Loss</th>\n",
              "      <th>Validation Loss</th>\n",
              "    </tr>\n",
              "  </thead>\n",
              "  <tbody>\n",
              "    <tr>\n",
              "      <td>1</td>\n",
              "      <td>0.201300</td>\n",
              "      <td>0.183875</td>\n",
              "    </tr>\n",
              "    <tr>\n",
              "      <td>2</td>\n",
              "      <td>0.136200</td>\n",
              "      <td>0.185619</td>\n",
              "    </tr>\n",
              "    <tr>\n",
              "      <td>3</td>\n",
              "      <td>0.085900</td>\n",
              "      <td>0.213689</td>\n",
              "    </tr>\n",
              "  </tbody>\n",
              "</table><p>"
            ]
          },
          "metadata": {}
        },
        {
          "output_type": "execute_result",
          "data": {
            "text/plain": [
              "TrainOutput(global_step=22500, training_loss=0.1543848668416341, metrics={'train_runtime': 4455.957, 'train_samples_per_second': 80.791, 'train_steps_per_second': 5.049, 'total_flos': 4.768996442112e+16, 'train_loss': 0.1543848668416341, 'epoch': 3.0})"
            ]
          },
          "metadata": {},
          "execution_count": 47
        }
      ]
    },
    {
      "cell_type": "code",
      "source": [
        "training_args_v3 = TrainingArguments(\n",
        "    output_dir=\"/content/output/v3\",\n",
        "    evaluation_strategy=\"epoch\",\n",
        "    learning_rate=1e-5,\n",
        "    per_device_train_batch_size=8,\n",
        "    per_device_eval_batch_size=8,\n",
        "    num_train_epochs=3,\n",
        "    weight_decay=0.1,\n",
        "    load_best_model_at_end=True,\n",
        "    metric_for_best_model=\"eval_loss\",\n",
        "    save_steps=500,\n",
        "    save_total_limit=2,\n",
        "    disable_tqdm=False,\n",
        "    save_strategy=\"epoch\",\n",
        ")"
      ],
      "metadata": {
        "colab": {
          "base_uri": "https://localhost:8080/",
          "height": 0
        },
        "id": "R7wzN3mbeec9",
        "outputId": "0dbae2ef-4b1b-45b5-9073-3b5547db0948"
      },
      "execution_count": 51,
      "outputs": [
        {
          "output_type": "stream",
          "name": "stderr",
          "text": [
            "/usr/local/lib/python3.10/dist-packages/transformers/training_args.py:1525: FutureWarning: `evaluation_strategy` is deprecated and will be removed in version 4.46 of 🤗 Transformers. Use `eval_strategy` instead\n",
            "  warnings.warn(\n"
          ]
        }
      ]
    },
    {
      "cell_type": "code",
      "source": [
        "model_v3 = DistilBertForSequenceClassification.from_pretrained(\"distilbert-base-uncased\", config=config)"
      ],
      "metadata": {
        "colab": {
          "base_uri": "https://localhost:8080/",
          "height": 0
        },
        "id": "uLnJ_L2XxlKP",
        "outputId": "51f15012-2651-41fd-cf3a-5cd79ade23d7"
      },
      "execution_count": 52,
      "outputs": [
        {
          "output_type": "stream",
          "name": "stderr",
          "text": [
            "Some weights of DistilBertForSequenceClassification were not initialized from the model checkpoint at distilbert-base-uncased and are newly initialized: ['classifier.bias', 'classifier.weight', 'pre_classifier.bias', 'pre_classifier.weight']\n",
            "You should probably TRAIN this model on a down-stream task to be able to use it for predictions and inference.\n"
          ]
        }
      ]
    },
    {
      "cell_type": "code",
      "source": [
        "trainer_v3 = Trainer(\n",
        "    model=model_v3,\n",
        "    args=training_args_v3,\n",
        "    train_dataset=train_dataset,\n",
        "    eval_dataset=eval_dataset,\n",
        ")"
      ],
      "metadata": {
        "id": "nmecDFz4yBx6"
      },
      "execution_count": 54,
      "outputs": []
    },
    {
      "cell_type": "code",
      "source": [
        "print(len(dataset[\"train\"]), len(dataset[\"test\"]))"
      ],
      "metadata": {
        "colab": {
          "base_uri": "https://localhost:8080/",
          "height": 0
        },
        "id": "iKHPE6_3yMek",
        "outputId": "62acab4a-f88b-4705-bfb5-ef6d1ae54c4a"
      },
      "execution_count": 56,
      "outputs": [
        {
          "output_type": "stream",
          "name": "stdout",
          "text": [
            "120000 7600\n"
          ]
        }
      ]
    },
    {
      "cell_type": "code",
      "source": [
        "# Adjust loaded data to the format required by the distilbert model\n",
        "\n",
        "# Initialize the tokenizer\n",
        "tokenizer = DistilBertTokenizer.from_pretrained(\"distilbert-base-uncased\")\n",
        "\n",
        "# Tokenize the function\n",
        "def tokenize_function(examples):\n",
        "    return tokenizer(examples[\"text\"], padding=\"max_length\", truncation=True)\n",
        "\n",
        "# Tokenize the dataset\n",
        "tokenized_datasets = dataset.map(tokenize_function, batched=True)"
      ],
      "metadata": {
        "colab": {
          "base_uri": "https://localhost:8080/",
          "height": 0
        },
        "id": "GNS5dxkaBoCY",
        "outputId": "67c218e1-aa47-4f04-923e-a42bca083843"
      },
      "execution_count": 83,
      "outputs": [
        {
          "output_type": "stream",
          "name": "stderr",
          "text": [
            "/usr/local/lib/python3.10/dist-packages/transformers/tokenization_utils_base.py:1601: FutureWarning: `clean_up_tokenization_spaces` was not set. It will be set to `True` by default. This behavior will be depracted in transformers v4.45, and will be then set to `False` by default. For more details check this issue: https://github.com/huggingface/transformers/issues/31884\n",
            "  warnings.warn(\n"
          ]
        }
      ]
    },
    {
      "cell_type": "code",
      "source": [
        "model_v4 = DistilBertForSequenceClassification.from_pretrained(\"distilbert-base-uncased\", config=config)"
      ],
      "metadata": {
        "colab": {
          "base_uri": "https://localhost:8080/",
          "height": 0
        },
        "id": "sTLG-XzdAtlP",
        "outputId": "ece424df-f247-4385-e3e6-75c966fc4673"
      },
      "execution_count": 84,
      "outputs": [
        {
          "output_type": "stream",
          "name": "stderr",
          "text": [
            "Some weights of DistilBertForSequenceClassification were not initialized from the model checkpoint at distilbert-base-uncased and are newly initialized: ['classifier.bias', 'classifier.weight', 'pre_classifier.bias', 'pre_classifier.weight']\n",
            "You should probably TRAIN this model on a down-stream task to be able to use it for predictions and inference.\n"
          ]
        }
      ]
    },
    {
      "cell_type": "code",
      "source": [
        "training_args_v4 = TrainingArguments(\n",
        "    output_dir=\"/content/output/v4\",\n",
        "    evaluation_strategy=\"epoch\",\n",
        "    learning_rate=1e-5,\n",
        "    per_device_train_batch_size=32,\n",
        "    per_device_eval_batch_size=8,\n",
        "    num_train_epochs=3,\n",
        "    weight_decay=0.1,\n",
        "    load_best_model_at_end=True,\n",
        "    metric_for_best_model=\"eval_loss\",\n",
        "    save_steps=500,\n",
        "    save_total_limit=2,\n",
        "    disable_tqdm=False,\n",
        "    save_strategy=\"epoch\",\n",
        ")"
      ],
      "metadata": {
        "colab": {
          "base_uri": "https://localhost:8080/",
          "height": 0
        },
        "id": "p9d8rOWNABFx",
        "outputId": "41e5ea16-8452-4046-a884-1cfe3bc1f086"
      },
      "execution_count": 85,
      "outputs": [
        {
          "output_type": "stream",
          "name": "stderr",
          "text": [
            "/usr/local/lib/python3.10/dist-packages/transformers/training_args.py:1525: FutureWarning: `evaluation_strategy` is deprecated and will be removed in version 4.46 of 🤗 Transformers. Use `eval_strategy` instead\n",
            "  warnings.warn(\n"
          ]
        }
      ]
    },
    {
      "cell_type": "code",
      "source": [
        "trainer_v4 = Trainer(\n",
        "    model=model_v4,\n",
        "    args=training_args_v4,\n",
        "    train_dataset=tokenized_datasets[\"train\"],\n",
        "    eval_dataset=tokenized_datasets[\"test\"],\n",
        "    callbacks=[EarlyStoppingCallback(early_stopping_patience=2)]\n",
        ")"
      ],
      "metadata": {
        "id": "ZJDIYlzBAlZ9"
      },
      "execution_count": 86,
      "outputs": []
    },
    {
      "cell_type": "code",
      "source": [
        "trainer_v4.train()"
      ],
      "metadata": {
        "colab": {
          "base_uri": "https://localhost:8080/",
          "height": 204
        },
        "id": "d-s3mTTzA5Wj",
        "outputId": "34ab6cb1-8830-4f49-a4d7-2f42e45ebb81"
      },
      "execution_count": 87,
      "outputs": [
        {
          "output_type": "display_data",
          "data": {
            "text/plain": [
              "<IPython.core.display.HTML object>"
            ],
            "text/html": [
              "\n",
              "    <div>\n",
              "      \n",
              "      <progress value='11250' max='11250' style='width:300px; height:20px; vertical-align: middle;'></progress>\n",
              "      [11250/11250 1:10:03, Epoch 3/3]\n",
              "    </div>\n",
              "    <table border=\"1\" class=\"dataframe\">\n",
              "  <thead>\n",
              " <tr style=\"text-align: left;\">\n",
              "      <th>Epoch</th>\n",
              "      <th>Training Loss</th>\n",
              "      <th>Validation Loss</th>\n",
              "    </tr>\n",
              "  </thead>\n",
              "  <tbody>\n",
              "    <tr>\n",
              "      <td>1</td>\n",
              "      <td>0.196300</td>\n",
              "      <td>0.184391</td>\n",
              "    </tr>\n",
              "    <tr>\n",
              "      <td>2</td>\n",
              "      <td>0.159300</td>\n",
              "      <td>0.176199</td>\n",
              "    </tr>\n",
              "    <tr>\n",
              "      <td>3</td>\n",
              "      <td>0.122800</td>\n",
              "      <td>0.178125</td>\n",
              "    </tr>\n",
              "  </tbody>\n",
              "</table><p>"
            ]
          },
          "metadata": {}
        },
        {
          "output_type": "execute_result",
          "data": {
            "text/plain": [
              "TrainOutput(global_step=11250, training_loss=0.1769073432074653, metrics={'train_runtime': 4203.7054, 'train_samples_per_second': 85.639, 'train_steps_per_second': 2.676, 'total_flos': 4.768996442112e+16, 'train_loss': 0.1769073432074653, 'epoch': 3.0})"
            ]
          },
          "metadata": {},
          "execution_count": 87
        }
      ]
    },
    {
      "cell_type": "code",
      "source": [
        "from transformers import AutoModelForSequenceClassification\n",
        "\n",
        "best_model = AutoModelForSequenceClassification.from_pretrained(\"/content/output/v4/checkpoint-11250\")"
      ],
      "metadata": {
        "id": "sexpu9N0A8f2"
      },
      "execution_count": 89,
      "outputs": []
    },
    {
      "cell_type": "code",
      "source": [
        "test_results = trainer.evaluate(eval_dataset=tokenized_datasets[\"test\"])\n",
        "\n",
        "print(\"Test results:\", test_results)"
      ],
      "metadata": {
        "colab": {
          "base_uri": "https://localhost:8080/",
          "height": 54
        },
        "id": "wyMrnVMZVUc4",
        "outputId": "17ac9992-d24e-405b-c6b6-df638cccb8f4"
      },
      "execution_count": 90,
      "outputs": [
        {
          "output_type": "display_data",
          "data": {
            "text/plain": [
              "<IPython.core.display.HTML object>"
            ],
            "text/html": [
              "\n",
              "    <div>\n",
              "      \n",
              "      <progress value='475' max='475' style='width:300px; height:20px; vertical-align: middle;'></progress>\n",
              "      [475/475 00:31]\n",
              "    </div>\n",
              "    "
            ]
          },
          "metadata": {}
        },
        {
          "output_type": "stream",
          "name": "stdout",
          "text": [
            "Test results: {'eval_loss': 0.1838751882314682, 'eval_runtime': 31.8407, 'eval_samples_per_second': 238.688, 'eval_steps_per_second': 14.918, 'epoch': 3.0}\n"
          ]
        }
      ]
    },
    {
      "cell_type": "code",
      "source": [
        "output_dir = \"/content/output/final_model\"\n",
        "\n",
        "# Save the model\n",
        "model.save_pretrained(output_dir)\n",
        "\n",
        "# Save the tokenizer\n",
        "tokenizer.save_pretrained(output_dir)"
      ],
      "metadata": {
        "colab": {
          "base_uri": "https://localhost:8080/",
          "height": 0
        },
        "id": "uSgrNXOmVZ1P",
        "outputId": "f43f4455-a3b2-4f40-c1d8-957f415e82a8"
      },
      "execution_count": 92,
      "outputs": [
        {
          "output_type": "execute_result",
          "data": {
            "text/plain": [
              "('/content/output/final_model/tokenizer_config.json',\n",
              " '/content/output/final_model/special_tokens_map.json',\n",
              " '/content/output/final_model/vocab.txt',\n",
              " '/content/output/final_model/added_tokens.json')"
            ]
          },
          "metadata": {},
          "execution_count": 92
        }
      ]
    },
    {
      "cell_type": "code",
      "source": [
        "!zip -r /content/output.zip /content/output/"
      ],
      "metadata": {
        "colab": {
          "base_uri": "https://localhost:8080/",
          "height": 0
        },
        "id": "shYPlg1kVtg4",
        "outputId": "c67c9941-9dbf-41ec-befd-f149afcc9354"
      },
      "execution_count": 93,
      "outputs": [
        {
          "output_type": "stream",
          "name": "stdout",
          "text": [
            "  adding: content/output/ (stored 0%)\n",
            "  adding: content/output/final_model/ (stored 0%)\n",
            "  adding: content/output/final_model/config.json (deflated 50%)\n",
            "  adding: content/output/final_model/model.safetensors (deflated 8%)\n",
            "  adding: content/output/final_model/special_tokens_map.json (deflated 42%)\n",
            "  adding: content/output/final_model/tokenizer_config.json (deflated 75%)\n",
            "  adding: content/output/final_model/vocab.txt (deflated 53%)\n",
            "  adding: content/output/checkpoint-22500/ (stored 0%)\n",
            "  adding: content/output/checkpoint-22500/trainer_state.json (deflated 80%)\n",
            "  adding: content/output/checkpoint-22500/config.json (deflated 50%)\n",
            "  adding: content/output/checkpoint-22500/optimizer.pt (deflated 16%)\n",
            "  adding: content/output/checkpoint-22500/training_args.bin (deflated 51%)\n",
            "  adding: content/output/checkpoint-22500/model.safetensors (deflated 8%)\n",
            "  adding: content/output/checkpoint-22500/scheduler.pt (deflated 56%)\n",
            "  adding: content/output/checkpoint-22500/rng_state.pth (deflated 25%)\n",
            "  adding: content/output/runs/ (stored 0%)\n",
            "  adding: content/output/runs/Nov09_08-53-31_551bcf3296a3/ (stored 0%)\n",
            "  adding: content/output/runs/Nov09_08-53-31_551bcf3296a3/events.out.tfevents.1731147072.551bcf3296a3.3408.3 (deflated 25%)\n",
            "  adding: content/output/runs/Nov09_08-53-31_551bcf3296a3/events.out.tfevents.1731142413.551bcf3296a3.3408.2 (deflated 65%)\n",
            "  adding: content/output/runs/Nov09_08-51-33_551bcf3296a3/ (stored 0%)\n",
            "  adding: content/output/runs/Nov09_08-51-33_551bcf3296a3/events.out.tfevents.1731142297.551bcf3296a3.3408.1 (deflated 61%)\n",
            "  adding: content/output/runs/Nov09_08-50-35_551bcf3296a3/ (stored 0%)\n",
            "  adding: content/output/runs/Nov09_08-50-35_551bcf3296a3/events.out.tfevents.1731142243.551bcf3296a3.3408.0 (deflated 61%)\n",
            "  adding: content/output/v4/ (stored 0%)\n",
            "  adding: content/output/v4/runs/ (stored 0%)\n",
            "  adding: content/output/v4/runs/Nov09_13-03-32_551bcf3296a3/ (stored 0%)\n",
            "  adding: content/output/v4/runs/Nov09_13-03-32_551bcf3296a3/events.out.tfevents.1731157417.551bcf3296a3.3408.9 (deflated 61%)\n",
            "  adding: content/output/v4/runs/Nov09_13-01-37_551bcf3296a3/ (stored 0%)\n",
            "  adding: content/output/v4/runs/Nov09_13-01-37_551bcf3296a3/events.out.tfevents.1731157303.551bcf3296a3.3408.8 (deflated 61%)\n",
            "  adding: content/output/v4/runs/Nov09_13-00-28_551bcf3296a3/ (stored 0%)\n",
            "  adding: content/output/v4/runs/Nov09_13-00-28_551bcf3296a3/events.out.tfevents.1731157283.551bcf3296a3.3408.7 (deflated 61%)\n",
            "  adding: content/output/v4/runs/Nov09_13-04-29_551bcf3296a3/ (stored 0%)\n",
            "  adding: content/output/v4/runs/Nov09_13-04-29_551bcf3296a3/events.out.tfevents.1731157492.551bcf3296a3.3408.10 (deflated 62%)\n",
            "  adding: content/output/v4/checkpoint-7500/ (stored 0%)\n",
            "  adding: content/output/v4/checkpoint-7500/trainer_state.json (deflated 74%)\n",
            "  adding: content/output/v4/checkpoint-7500/config.json (deflated 49%)\n",
            "  adding: content/output/v4/checkpoint-7500/optimizer.pt (deflated 15%)\n",
            "  adding: content/output/v4/checkpoint-7500/training_args.bin (deflated 51%)\n",
            "  adding: content/output/v4/checkpoint-7500/model.safetensors (deflated 8%)\n",
            "  adding: content/output/v4/checkpoint-7500/scheduler.pt (deflated 55%)\n",
            "  adding: content/output/v4/checkpoint-7500/rng_state.pth (deflated 25%)\n",
            "  adding: content/output/v4/checkpoint-11250/ (stored 0%)\n",
            "  adding: content/output/v4/checkpoint-11250/trainer_state.json (deflated 76%)\n",
            "  adding: content/output/v4/checkpoint-11250/config.json (deflated 49%)\n",
            "  adding: content/output/v4/checkpoint-11250/optimizer.pt (deflated 14%)\n",
            "  adding: content/output/v4/checkpoint-11250/training_args.bin (deflated 51%)\n",
            "  adding: content/output/v4/checkpoint-11250/model.safetensors (deflated 8%)\n",
            "  adding: content/output/v4/checkpoint-11250/scheduler.pt (deflated 56%)\n",
            "  adding: content/output/v4/checkpoint-11250/rng_state.pth (deflated 25%)\n",
            "  adding: content/output/v3/ (stored 0%)\n",
            "  adding: content/output/v3/checkpoint-30000/ (stored 0%)\n",
            "  adding: content/output/v3/checkpoint-30000/trainer_state.json (deflated 81%)\n",
            "  adding: content/output/v3/checkpoint-30000/config.json (deflated 49%)\n",
            "  adding: content/output/v3/checkpoint-30000/optimizer.pt (deflated 17%)\n",
            "  adding: content/output/v3/checkpoint-30000/training_args.bin (deflated 51%)\n",
            "  adding: content/output/v3/checkpoint-30000/model.safetensors (deflated 8%)\n",
            "  adding: content/output/v3/checkpoint-30000/scheduler.pt (deflated 55%)\n",
            "  adding: content/output/v3/checkpoint-30000/rng_state.pth (deflated 25%)\n",
            "  adding: content/output/v3/runs/ (stored 0%)\n",
            "  adding: content/output/v3/runs/Nov09_11-55-20_551bcf3296a3/ (stored 0%)\n",
            "  adding: content/output/v3/runs/Nov09_11-55-20_551bcf3296a3/events.out.tfevents.1731153417.551bcf3296a3.3408.6 (deflated 66%)\n",
            "  adding: content/output/v3/checkpoint-15000/ (stored 0%)\n",
            "  adding: content/output/v3/checkpoint-15000/trainer_state.json (deflated 78%)\n",
            "  adding: content/output/v3/checkpoint-15000/config.json (deflated 49%)\n",
            "  adding: content/output/v3/checkpoint-15000/optimizer.pt (deflated 17%)\n",
            "  adding: content/output/v3/checkpoint-15000/training_args.bin (deflated 51%)\n",
            "  adding: content/output/v3/checkpoint-15000/model.safetensors (deflated 8%)\n",
            "  adding: content/output/v3/checkpoint-15000/scheduler.pt (deflated 56%)\n",
            "  adding: content/output/v3/checkpoint-15000/rng_state.pth (deflated 25%)\n",
            "  adding: content/output/v2/ (stored 0%)\n",
            "  adding: content/output/v2/checkpoint-22500/ (stored 0%)\n",
            "  adding: content/output/v2/checkpoint-22500/trainer_state.json (deflated 80%)\n",
            "  adding: content/output/v2/checkpoint-22500/config.json (deflated 49%)\n",
            "  adding: content/output/v2/checkpoint-22500/optimizer.pt (deflated 16%)\n",
            "  adding: content/output/v2/checkpoint-22500/training_args.bin (deflated 51%)\n",
            "  adding: content/output/v2/checkpoint-22500/model.safetensors (deflated 8%)\n",
            "  adding: content/output/v2/checkpoint-22500/scheduler.pt (deflated 56%)\n",
            "  adding: content/output/v2/checkpoint-22500/rng_state.pth (deflated 25%)\n",
            "  adding: content/output/v2/runs/ (stored 0%)\n",
            "  adding: content/output/v2/runs/Nov09_10-29-46_551bcf3296a3/ (stored 0%)\n",
            "  adding: content/output/v2/runs/Nov09_10-29-46_551bcf3296a3/events.out.tfevents.1731148247.551bcf3296a3.3408.4 (deflated 61%)\n",
            "  adding: content/output/v2/runs/Nov09_10-31-08_551bcf3296a3/ (stored 0%)\n",
            "  adding: content/output/v2/runs/Nov09_10-31-08_551bcf3296a3/events.out.tfevents.1731148273.551bcf3296a3.3408.5 (deflated 64%)\n",
            "  adding: content/output/v2/runs/Nov09_10-31-08_551bcf3296a3/events.out.tfevents.1731162676.551bcf3296a3.3408.11 (deflated 27%)\n",
            "  adding: content/output/v2/checkpoint-7500/ (stored 0%)\n",
            "  adding: content/output/v2/checkpoint-7500/trainer_state.json (deflated 74%)\n",
            "  adding: content/output/v2/checkpoint-7500/config.json (deflated 49%)\n",
            "  adding: content/output/v2/checkpoint-7500/optimizer.pt (deflated 16%)\n",
            "  adding: content/output/v2/checkpoint-7500/training_args.bin (deflated 51%)\n",
            "  adding: content/output/v2/checkpoint-7500/model.safetensors (deflated 8%)\n",
            "  adding: content/output/v2/checkpoint-7500/scheduler.pt (deflated 55%)\n",
            "  adding: content/output/v2/checkpoint-7500/rng_state.pth (deflated 25%)\n",
            "  adding: content/output/.ipynb_checkpoints/ (stored 0%)\n",
            "  adding: content/output/checkpoint-7500/ (stored 0%)\n",
            "  adding: content/output/checkpoint-7500/trainer_state.json (deflated 74%)\n",
            "  adding: content/output/checkpoint-7500/config.json (deflated 50%)\n",
            "  adding: content/output/checkpoint-7500/optimizer.pt (deflated 16%)\n",
            "  adding: content/output/checkpoint-7500/training_args.bin (deflated 51%)\n",
            "  adding: content/output/checkpoint-7500/model.safetensors (deflated 8%)\n",
            "  adding: content/output/checkpoint-7500/scheduler.pt (deflated 55%)\n",
            "  adding: content/output/checkpoint-7500/rng_state.pth (deflated 25%)\n"
          ]
        }
      ]
    },
    {
      "cell_type": "code",
      "source": [
        "from google.colab import files\n",
        "files.download(\"/content/output.zip\")"
      ],
      "metadata": {
        "id": "6HxahdrUW22D"
      },
      "execution_count": null,
      "outputs": []
    },
    {
      "cell_type": "code",
      "source": [
        "import torch\n",
        "\n",
        "device = torch.device(\"cuda\" if torch.cuda.is_available() else \"cpu\")\n",
        "model_v4.to(device)\n",
        "\n",
        "inputs = tokenizer(\"\"\"My favourite sport is football. I love playing football as well as watching it. I think this is a great sport, because it is a team game, but there also is a place for great individualities in it. The players must get on well with one another and understand one another very well. They have to be a real team to achieve a success. They should not be egoists, craving for personal success, but they should all work for the victory. When, for example, somebody is near to the opposing team's goal and he should pass the ball to another player, but instead of that he shoots and misses, this is not a good example of \"team spirit\".\"\"\",\n",
        "                    return_tensors=\"pt\").to(device)\n",
        "\n",
        "with torch.no_grad():\n",
        "    outputs = model_v4(**inputs)\n",
        "    logits = outputs.logits\n",
        "\n",
        "predicted_class = torch.argmax(logits, dim=-1).item()\n",
        "print(\"Predicted class:\", predicted_class)"
      ],
      "metadata": {
        "colab": {
          "base_uri": "https://localhost:8080/",
          "height": 0
        },
        "id": "2nkZz7pAY_GL",
        "outputId": "d79c2f9e-f43e-41d8-cc24-d314be64b006"
      },
      "execution_count": 97,
      "outputs": [
        {
          "output_type": "stream",
          "name": "stdout",
          "text": [
            "Predicted class: 1\n"
          ]
        }
      ]
    },
    {
      "cell_type": "code",
      "source": [
        "id2label = model_v4.config.id2label\n",
        "\n",
        "predicted_class_name = id2label[predicted_class]\n",
        "\n",
        "print(\"Predicted class name:\", predicted_class_name)"
      ],
      "metadata": {
        "colab": {
          "base_uri": "https://localhost:8080/",
          "height": 0
        },
        "id": "chmt3lJ0byjq",
        "outputId": "393b9080-1e6f-4cbe-88c6-97abdc478cfd"
      },
      "execution_count": 98,
      "outputs": [
        {
          "output_type": "stream",
          "name": "stdout",
          "text": [
            "Predicted class name: Sports\n"
          ]
        }
      ]
    },
    {
      "cell_type": "code",
      "source": [],
      "metadata": {
        "id": "LZ755lnWcbmM"
      },
      "execution_count": null,
      "outputs": []
    }
  ]
}